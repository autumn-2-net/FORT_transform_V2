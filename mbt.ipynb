{
 "cells": [
  {
   "cell_type": "code",
   "execution_count": null,
   "metadata": {
    "collapsed": true
   },
   "outputs": [],
   "source": []
  },
  {
   "cell_type": "code",
   "execution_count": null,
   "outputs": [],
   "source": [
    "    import random\n",
    "    from matplotlib import pyplot as plt\n",
    "    from matplotlib import cm\n",
    "    from matplotlib import axes\n",
    "    from matplotlib.font_manager import FontProperties\n",
    "    font = FontProperties(fname='/Library/Fonts/Songti.ttc')\n",
    "\n",
    "    def draw():\n",
    "        #定义热图的横纵坐标\n",
    "        xLabel = ['A','B','C','D','E']\n",
    "        yLabel = ['1','2','3','4','5']\n",
    "\n",
    "        #准备数据阶段，利用random生成二维数据（5*5）\n",
    "        data = []\n",
    "        for i in range(5):\n",
    "            temp = []\n",
    "            for j in range(5):\n",
    "                k = random.randint(0,100)\n",
    "                temp.append(k)\n",
    "            data.append(temp)\n",
    "\n",
    "        #作图阶段\n",
    "        fig = plt.figure()\n",
    "        #定义画布为1*1个划分，并在第1个位置上进行作图\n",
    "        ax = fig.add_subplot(111)\n",
    "        #定义横纵坐标的刻度\n",
    "        ax.set_yticks(range(len(yLabel)))\n",
    "        ax.set_yticklabels(yLabel, fontproperties=font)\n",
    "        ax.set_xticks(range(len(xLabel)))\n",
    "        ax.set_xticklabels(xLabel)\n",
    "        #作图并选择热图的颜色填充风格，这里选择hot\n",
    "        im = ax.imshow(data, cmap=plt.cm.hot_r)\n",
    "        #增加右侧的颜色刻度条\n",
    "        plt.colorbar(im)\n",
    "        #增加标题\n",
    "        plt.title(\"This is a title\", fontproperties=font)\n",
    "        #show\n",
    "        plt.show()\n",
    "\n",
    "    d = draw()"
   ],
   "metadata": {
    "collapsed": false,
    "is_executing": true
   }
  }
 ],
 "metadata": {
  "kernelspec": {
   "display_name": "Python 3",
   "language": "python",
   "name": "python3"
  },
  "language_info": {
   "codemirror_mode": {
    "name": "ipython",
    "version": 2
   },
   "file_extension": ".py",
   "mimetype": "text/x-python",
   "name": "python",
   "nbconvert_exporter": "python",
   "pygments_lexer": "ipython2",
   "version": "2.7.6"
  }
 },
 "nbformat": 4,
 "nbformat_minor": 0
}
