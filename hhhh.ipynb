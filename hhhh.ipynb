{
 "cells": [
  {
   "cell_type": "code",
   "execution_count": 13,
   "metadata": {
    "collapsed": true,
    "ExecuteTime": {
     "end_time": "2023-06-16T13:51:35.162970800Z",
     "start_time": "2023-06-16T13:51:31.874120900Z"
    }
   },
   "outputs": [],
   "source": [
    "import torch\n",
    "\n",
    "from Tencode import PFORT_encode\n",
    "from torchvision.transforms import transforms\n",
    "import h5py\n",
    "modss=PFORT_encode(ATTlays=6, bhlay=9, imglay=5, dim=512, heads=8, inner_dim=512, out_dim=48, pos_emb_drop=0.1,\n",
    "                         mlpdropout=0.05, attdropout=0.05)\n",
    "# aaaa = dastset('映射.json', 'fix1.json', './i')\n",
    "modss=modss.load_from_checkpoint('./post_LN/V6-epoch06-6-240000.ckpt',ATTlays=6, bhlay=9, imglay=5, dim=512, heads=8, inner_dim=512, out_dim=48, pos_emb_drop=0.1,\n",
    "                         mlpdropout=0.05, attdropout=0.05)\n",
    "modss.eval().cuda()\n",
    "\n",
    "\n",
    "with h5py.File('V2_dataset_stage21.hdf5', 'r') as f:\n",
    "    # for i in f:\n",
    "    #     print(i)\n",
    "    aaa=f['34_266'][()]\n",
    "# transform1 = transforms.Compose([\n",
    "#             transforms.ToTensor(),  # range [0, 255] -> [0.0,1.0]\n",
    "#         ]\n",
    "#         )\n"
   ]
  },
  {
   "cell_type": "code",
   "execution_count": 27,
   "outputs": [
    {
     "name": "stdout",
     "output_type": "stream",
     "text": [
      "torch.Size([1, 512, 8, 8])\n"
     ]
    },
    {
     "data": {
      "text/plain": "<matplotlib.image.AxesImage at 0x1e2141b8d30>"
     },
     "execution_count": 27,
     "metadata": {},
     "output_type": "execute_result"
    },
    {
     "data": {
      "text/plain": "<Figure size 640x480 with 1 Axes>",
      "image/png": "[encoded data removed]"
     },
     "metadata": {},
     "output_type": "display_data"
    }
   ],
   "source": [
    "from matplotlib import pyplot as plt\n",
    "with h5py.File('V2_dataset_stage21.hdf5', 'r') as f:\n",
    "    # for i in f:\n",
    "    #     print(i)\n",
    "    aaa=f['33_6'][()]\n",
    "print(torch.tensor(aaa).unsqueeze(0).shape)\n",
    "opop=modss.decodess(torch.tensor(aaa).cuda().unsqueeze(0)).squeeze(0).cpu().detach().numpy()\n",
    "plt.imshow(opop[0])"
   ],
   "metadata": {
    "collapsed": false,
    "ExecuteTime": {
     "end_time": "2023-06-16T14:06:09.346874Z",
     "start_time": "2023-06-16T14:06:09.018597500Z"
    }
   }
  }
 ],
 "metadata": {
  "kernelspec": {
   "display_name": "Python 3",
   "language": "python",
   "name": "python3"
  },
  "language_info": {
   "codemirror_mode": {
    "name": "ipython",
    "version": 2
   },
   "file_extension": ".py",
   "mimetype": "text/x-python",
   "name": "python",
   "nbconvert_exporter": "python",
   "pygments_lexer": "ipython2",
   "version": "2.7.6"
  }
 },
 "nbformat": 4,
 "nbformat_minor": 0
}
